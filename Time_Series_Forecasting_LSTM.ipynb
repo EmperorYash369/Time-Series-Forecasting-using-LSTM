{
  "nbformat": 4,
  "nbformat_minor": 0,
  "metadata": {
    "colab": {
      "provenance": [],
      "gpuType": "T4"
    },
    "kernelspec": {
      "name": "python3",
      "display_name": "Python 3"
    },
    "language_info": {
      "name": "python"
    },
    "accelerator": "GPU"
  },
  "cells": [
    {
      "cell_type": "code",
      "source": [
        "import numpy\n",
        "import matplotlib.pyplot as plt\n",
        "import pandas\n",
        "import math\n",
        "from keras.models import Sequential\n",
        "from keras.layers import Dense\n",
        "from keras.layers import LSTM\n",
        "from sklearn.preprocessing import MinMaxScaler\n",
        "from sklearn.metrics import mean_squared_error\n",
        "# fix random seed for reproducibility\n",
        "numpy.random.seed(7)"
      ],
      "metadata": {
        "id": "QyV8cCVuDayY"
      },
      "execution_count": 2,
      "outputs": []
    },
    {
      "cell_type": "code",
      "source": [
        "# load the dataset\n",
        "dataframe = pandas.read_csv('airline-passengers.csv', usecols=[1], engine='python')\n",
        "dataset = dataframe.values\n",
        "dataset = dataset.astype('float32')\n",
        "# normalize the dataset\n",
        "scaler = MinMaxScaler(feature_range=(0, 1))\n",
        "dataset = scaler.fit_transform(dataset)"
      ],
      "metadata": {
        "id": "-iZTzmlTDfH6"
      },
      "execution_count": 4,
      "outputs": []
    },
    {
      "cell_type": "code",
      "source": [
        "# split into train and test sets\n",
        "train_size = int(len(dataset) * 0.67)\n",
        "test_size = len(dataset) - train_size\n",
        "train, test = dataset[0:train_size,:], dataset[train_size:len(dataset),:]\n",
        "print(len(train), len(test))"
      ],
      "metadata": {
        "colab": {
          "base_uri": "https://localhost:8080/"
        },
        "id": "15mgo1EPDiXj",
        "outputId": "8b3674ff-8c99-4bba-d2d9-28c04b24c7ad"
      },
      "execution_count": 5,
      "outputs": [
        {
          "output_type": "stream",
          "name": "stdout",
          "text": [
            "96 48\n"
          ]
        }
      ]
    },
    {
      "cell_type": "code",
      "source": [
        "# convert an array of values into a dataset matrix\n",
        "def create_dataset(dataset, look_back=1):\n",
        "\tdataX, dataY = [], []\n",
        "\tfor i in range(len(dataset)-look_back-1):\n",
        "\t\ta = dataset[i:(i+look_back), 0]\n",
        "\t\tdataX.append(a)\n",
        "\t\tdataY.append(dataset[i + look_back, 0])\n",
        "\treturn numpy.array(dataX), numpy.array(dataY)"
      ],
      "metadata": {
        "id": "AESuYc9mCejH"
      },
      "execution_count": 6,
      "outputs": []
    },
    {
      "cell_type": "code",
      "source": [
        "#reshape into X=t and Y=t+1\n",
        "look_back = 1\n",
        "trainX, trainY = create_dataset(train, look_back)\n",
        "testX, testY = create_dataset(test, look_back)\n",
        "# reshape input to be [samples, time steps, features]\n",
        "trainX = numpy.reshape(trainX, (trainX.shape[0], 1, trainX.shape[1]))\n",
        "testX = numpy.reshape(testX, (testX.shape[0], 1, testX.shape[1]))"
      ],
      "metadata": {
        "id": "LRh2RESlClPm"
      },
      "execution_count": 7,
      "outputs": []
    },
    {
      "cell_type": "code",
      "source": [
        "# create and fit the LSTM network\n",
        "model = Sequential()\n",
        "model.add(LSTM(4, input_shape=(1, look_back)))\n",
        "model.add(Dense(1))\n",
        "model.compile(loss='mean_squared_error', optimizer='adam')\n",
        "model.fit(trainX, trainY, epochs=100, batch_size=1, verbose=2)"
      ],
      "metadata": {
        "colab": {
          "base_uri": "https://localhost:8080/"
        },
        "id": "NQ8Y_b97CvQ1",
        "outputId": "65ea5753-52fb-4ede-d011-b8d66799b312"
      },
      "execution_count": 8,
      "outputs": [
        {
          "output_type": "stream",
          "name": "stdout",
          "text": [
            "Epoch 1/100\n",
            "94/94 - 5s - loss: 0.0533 - 5s/epoch - 52ms/step\n",
            "Epoch 2/100\n",
            "94/94 - 0s - loss: 0.0291 - 244ms/epoch - 3ms/step\n",
            "Epoch 3/100\n",
            "94/94 - 0s - loss: 0.0212 - 250ms/epoch - 3ms/step\n",
            "Epoch 4/100\n",
            "94/94 - 0s - loss: 0.0190 - 243ms/epoch - 3ms/step\n",
            "Epoch 5/100\n",
            "94/94 - 0s - loss: 0.0180 - 246ms/epoch - 3ms/step\n",
            "Epoch 6/100\n",
            "94/94 - 0s - loss: 0.0172 - 239ms/epoch - 3ms/step\n",
            "Epoch 7/100\n",
            "94/94 - 0s - loss: 0.0165 - 247ms/epoch - 3ms/step\n",
            "Epoch 8/100\n",
            "94/94 - 0s - loss: 0.0156 - 248ms/epoch - 3ms/step\n",
            "Epoch 9/100\n",
            "94/94 - 0s - loss: 0.0145 - 246ms/epoch - 3ms/step\n",
            "Epoch 10/100\n",
            "94/94 - 0s - loss: 0.0136 - 245ms/epoch - 3ms/step\n",
            "Epoch 11/100\n",
            "94/94 - 0s - loss: 0.0122 - 251ms/epoch - 3ms/step\n",
            "Epoch 12/100\n",
            "94/94 - 0s - loss: 0.0108 - 248ms/epoch - 3ms/step\n",
            "Epoch 13/100\n",
            "94/94 - 0s - loss: 0.0092 - 266ms/epoch - 3ms/step\n",
            "Epoch 14/100\n",
            "94/94 - 0s - loss: 0.0075 - 256ms/epoch - 3ms/step\n",
            "Epoch 15/100\n",
            "94/94 - 0s - loss: 0.0059 - 241ms/epoch - 3ms/step\n",
            "Epoch 16/100\n",
            "94/94 - 0s - loss: 0.0047 - 239ms/epoch - 3ms/step\n",
            "Epoch 17/100\n",
            "94/94 - 0s - loss: 0.0037 - 248ms/epoch - 3ms/step\n",
            "Epoch 18/100\n",
            "94/94 - 0s - loss: 0.0030 - 243ms/epoch - 3ms/step\n",
            "Epoch 19/100\n",
            "94/94 - 0s - loss: 0.0025 - 250ms/epoch - 3ms/step\n",
            "Epoch 20/100\n",
            "94/94 - 0s - loss: 0.0023 - 244ms/epoch - 3ms/step\n",
            "Epoch 21/100\n",
            "94/94 - 0s - loss: 0.0021 - 245ms/epoch - 3ms/step\n",
            "Epoch 22/100\n",
            "94/94 - 0s - loss: 0.0021 - 241ms/epoch - 3ms/step\n",
            "Epoch 23/100\n",
            "94/94 - 0s - loss: 0.0021 - 247ms/epoch - 3ms/step\n",
            "Epoch 24/100\n",
            "94/94 - 0s - loss: 0.0020 - 240ms/epoch - 3ms/step\n",
            "Epoch 25/100\n",
            "94/94 - 0s - loss: 0.0020 - 246ms/epoch - 3ms/step\n",
            "Epoch 26/100\n",
            "94/94 - 0s - loss: 0.0020 - 245ms/epoch - 3ms/step\n",
            "Epoch 27/100\n",
            "94/94 - 0s - loss: 0.0021 - 240ms/epoch - 3ms/step\n",
            "Epoch 28/100\n",
            "94/94 - 0s - loss: 0.0020 - 248ms/epoch - 3ms/step\n",
            "Epoch 29/100\n",
            "94/94 - 0s - loss: 0.0021 - 250ms/epoch - 3ms/step\n",
            "Epoch 30/100\n",
            "94/94 - 0s - loss: 0.0020 - 238ms/epoch - 3ms/step\n",
            "Epoch 31/100\n",
            "94/94 - 0s - loss: 0.0020 - 238ms/epoch - 3ms/step\n",
            "Epoch 32/100\n",
            "94/94 - 0s - loss: 0.0020 - 260ms/epoch - 3ms/step\n",
            "Epoch 33/100\n",
            "94/94 - 0s - loss: 0.0020 - 251ms/epoch - 3ms/step\n",
            "Epoch 34/100\n",
            "94/94 - 0s - loss: 0.0020 - 248ms/epoch - 3ms/step\n",
            "Epoch 35/100\n",
            "94/94 - 0s - loss: 0.0021 - 240ms/epoch - 3ms/step\n",
            "Epoch 36/100\n",
            "94/94 - 0s - loss: 0.0020 - 246ms/epoch - 3ms/step\n",
            "Epoch 37/100\n",
            "94/94 - 0s - loss: 0.0021 - 247ms/epoch - 3ms/step\n",
            "Epoch 38/100\n",
            "94/94 - 0s - loss: 0.0020 - 246ms/epoch - 3ms/step\n",
            "Epoch 39/100\n",
            "94/94 - 0s - loss: 0.0021 - 291ms/epoch - 3ms/step\n",
            "Epoch 40/100\n",
            "94/94 - 0s - loss: 0.0020 - 336ms/epoch - 4ms/step\n",
            "Epoch 41/100\n",
            "94/94 - 0s - loss: 0.0020 - 330ms/epoch - 4ms/step\n",
            "Epoch 42/100\n",
            "94/94 - 0s - loss: 0.0021 - 317ms/epoch - 3ms/step\n",
            "Epoch 43/100\n",
            "94/94 - 0s - loss: 0.0020 - 340ms/epoch - 4ms/step\n",
            "Epoch 44/100\n",
            "94/94 - 0s - loss: 0.0019 - 341ms/epoch - 4ms/step\n",
            "Epoch 45/100\n",
            "94/94 - 0s - loss: 0.0022 - 337ms/epoch - 4ms/step\n",
            "Epoch 46/100\n",
            "94/94 - 0s - loss: 0.0020 - 368ms/epoch - 4ms/step\n",
            "Epoch 47/100\n",
            "94/94 - 0s - loss: 0.0020 - 266ms/epoch - 3ms/step\n",
            "Epoch 48/100\n",
            "94/94 - 0s - loss: 0.0022 - 235ms/epoch - 2ms/step\n",
            "Epoch 49/100\n",
            "94/94 - 0s - loss: 0.0020 - 242ms/epoch - 3ms/step\n",
            "Epoch 50/100\n",
            "94/94 - 0s - loss: 0.0020 - 279ms/epoch - 3ms/step\n",
            "Epoch 51/100\n",
            "94/94 - 0s - loss: 0.0020 - 235ms/epoch - 3ms/step\n",
            "Epoch 52/100\n",
            "94/94 - 0s - loss: 0.0020 - 231ms/epoch - 2ms/step\n",
            "Epoch 53/100\n",
            "94/94 - 0s - loss: 0.0020 - 248ms/epoch - 3ms/step\n",
            "Epoch 54/100\n",
            "94/94 - 0s - loss: 0.0020 - 248ms/epoch - 3ms/step\n",
            "Epoch 55/100\n",
            "94/94 - 0s - loss: 0.0021 - 237ms/epoch - 3ms/step\n",
            "Epoch 56/100\n",
            "94/94 - 0s - loss: 0.0020 - 235ms/epoch - 2ms/step\n",
            "Epoch 57/100\n",
            "94/94 - 0s - loss: 0.0020 - 241ms/epoch - 3ms/step\n",
            "Epoch 58/100\n",
            "94/94 - 0s - loss: 0.0020 - 249ms/epoch - 3ms/step\n",
            "Epoch 59/100\n",
            "94/94 - 0s - loss: 0.0020 - 240ms/epoch - 3ms/step\n",
            "Epoch 60/100\n",
            "94/94 - 0s - loss: 0.0020 - 242ms/epoch - 3ms/step\n",
            "Epoch 61/100\n",
            "94/94 - 0s - loss: 0.0021 - 242ms/epoch - 3ms/step\n",
            "Epoch 62/100\n",
            "94/94 - 0s - loss: 0.0020 - 243ms/epoch - 3ms/step\n",
            "Epoch 63/100\n",
            "94/94 - 0s - loss: 0.0020 - 241ms/epoch - 3ms/step\n",
            "Epoch 64/100\n",
            "94/94 - 0s - loss: 0.0020 - 237ms/epoch - 3ms/step\n",
            "Epoch 65/100\n",
            "94/94 - 0s - loss: 0.0020 - 248ms/epoch - 3ms/step\n",
            "Epoch 66/100\n",
            "94/94 - 0s - loss: 0.0020 - 247ms/epoch - 3ms/step\n",
            "Epoch 67/100\n",
            "94/94 - 0s - loss: 0.0020 - 249ms/epoch - 3ms/step\n",
            "Epoch 68/100\n",
            "94/94 - 0s - loss: 0.0020 - 242ms/epoch - 3ms/step\n",
            "Epoch 69/100\n",
            "94/94 - 0s - loss: 0.0020 - 244ms/epoch - 3ms/step\n",
            "Epoch 70/100\n",
            "94/94 - 0s - loss: 0.0020 - 235ms/epoch - 2ms/step\n",
            "Epoch 71/100\n",
            "94/94 - 0s - loss: 0.0020 - 251ms/epoch - 3ms/step\n",
            "Epoch 72/100\n",
            "94/94 - 0s - loss: 0.0020 - 236ms/epoch - 3ms/step\n",
            "Epoch 73/100\n",
            "94/94 - 0s - loss: 0.0020 - 241ms/epoch - 3ms/step\n",
            "Epoch 74/100\n",
            "94/94 - 0s - loss: 0.0020 - 232ms/epoch - 2ms/step\n",
            "Epoch 75/100\n",
            "94/94 - 0s - loss: 0.0020 - 250ms/epoch - 3ms/step\n",
            "Epoch 76/100\n",
            "94/94 - 0s - loss: 0.0020 - 238ms/epoch - 3ms/step\n",
            "Epoch 77/100\n",
            "94/94 - 0s - loss: 0.0020 - 237ms/epoch - 3ms/step\n",
            "Epoch 78/100\n",
            "94/94 - 0s - loss: 0.0020 - 236ms/epoch - 3ms/step\n",
            "Epoch 79/100\n",
            "94/94 - 0s - loss: 0.0020 - 271ms/epoch - 3ms/step\n",
            "Epoch 80/100\n",
            "94/94 - 0s - loss: 0.0021 - 249ms/epoch - 3ms/step\n",
            "Epoch 81/100\n",
            "94/94 - 0s - loss: 0.0019 - 246ms/epoch - 3ms/step\n",
            "Epoch 82/100\n",
            "94/94 - 0s - loss: 0.0020 - 248ms/epoch - 3ms/step\n",
            "Epoch 83/100\n",
            "94/94 - 0s - loss: 0.0021 - 250ms/epoch - 3ms/step\n",
            "Epoch 84/100\n",
            "94/94 - 0s - loss: 0.0020 - 241ms/epoch - 3ms/step\n",
            "Epoch 85/100\n",
            "94/94 - 0s - loss: 0.0020 - 251ms/epoch - 3ms/step\n",
            "Epoch 86/100\n",
            "94/94 - 0s - loss: 0.0020 - 244ms/epoch - 3ms/step\n",
            "Epoch 87/100\n",
            "94/94 - 0s - loss: 0.0019 - 279ms/epoch - 3ms/step\n",
            "Epoch 88/100\n",
            "94/94 - 0s - loss: 0.0020 - 333ms/epoch - 4ms/step\n",
            "Epoch 89/100\n",
            "94/94 - 0s - loss: 0.0020 - 341ms/epoch - 4ms/step\n",
            "Epoch 90/100\n",
            "94/94 - 0s - loss: 0.0021 - 335ms/epoch - 4ms/step\n",
            "Epoch 91/100\n",
            "94/94 - 0s - loss: 0.0021 - 350ms/epoch - 4ms/step\n",
            "Epoch 92/100\n",
            "94/94 - 0s - loss: 0.0021 - 337ms/epoch - 4ms/step\n",
            "Epoch 93/100\n",
            "94/94 - 0s - loss: 0.0020 - 355ms/epoch - 4ms/step\n",
            "Epoch 94/100\n",
            "94/94 - 0s - loss: 0.0020 - 354ms/epoch - 4ms/step\n",
            "Epoch 95/100\n",
            "94/94 - 0s - loss: 0.0021 - 356ms/epoch - 4ms/step\n",
            "Epoch 96/100\n",
            "94/94 - 0s - loss: 0.0020 - 302ms/epoch - 3ms/step\n",
            "Epoch 97/100\n",
            "94/94 - 0s - loss: 0.0020 - 241ms/epoch - 3ms/step\n",
            "Epoch 98/100\n",
            "94/94 - 0s - loss: 0.0020 - 248ms/epoch - 3ms/step\n",
            "Epoch 99/100\n",
            "94/94 - 0s - loss: 0.0020 - 245ms/epoch - 3ms/step\n",
            "Epoch 100/100\n",
            "94/94 - 0s - loss: 0.0020 - 245ms/epoch - 3ms/step\n"
          ]
        },
        {
          "output_type": "execute_result",
          "data": {
            "text/plain": [
              "<keras.src.callbacks.History at 0x785dc01bcdc0>"
            ]
          },
          "metadata": {},
          "execution_count": 8
        }
      ]
    },
    {
      "cell_type": "code",
      "source": [
        "# make predictions\n",
        "trainPredict = model.predict(trainX)\n",
        "testPredict = model.predict(testX)\n",
        "# invert predictions\n",
        "trainPredict = scaler.inverse_transform(trainPredict)\n",
        "trainY = scaler.inverse_transform([trainY])\n",
        "testPredict = scaler.inverse_transform(testPredict)\n",
        "testY = scaler.inverse_transform([testY])\n",
        "# calculate root mean squared error\n",
        "trainScore = math.sqrt(mean_squared_error(trainY[0], trainPredict[:,0]))\n",
        "testScore = math.sqrt(mean_squared_error(testY[0], testPredict[:,0]))\n",
        "\n",
        "# shift train predictions for plotting\n",
        "trainPredictPlot = numpy.empty_like(dataset)\n",
        "trainPredictPlot[:, :] = numpy.nan\n",
        "trainPredictPlot[look_back:len(trainPredict)+look_back, :] = trainPredict\n",
        "# shift test predictions for plotting\n",
        "testPredictPlot = numpy.empty_like(dataset)\n",
        "testPredictPlot[:, :] = numpy.nan\n",
        "testPredictPlot[len(trainPredict)+(look_back*2)+1:len(dataset)-1, :] = testPredict\n",
        "# plot baseline and predictions\n",
        "plt.plot(scaler.inverse_transform(dataset))\n",
        "plt.plot(trainPredictPlot)\n",
        "plt.plot(testPredictPlot)\n",
        "plt.show()"
      ],
      "metadata": {
        "colab": {
          "base_uri": "https://localhost:8080/",
          "height": 465
        },
        "id": "FsEI8qbhCzEb",
        "outputId": "789e3b62-1794-432f-f17f-cdc989a034cd"
      },
      "execution_count": 9,
      "outputs": [
        {
          "output_type": "stream",
          "name": "stdout",
          "text": [
            "3/3 [==============================] - 1s 6ms/step\n",
            "2/2 [==============================] - 0s 36ms/step\n"
          ]
        },
        {
          "output_type": "display_data",
          "data": {
            "text/plain": [
              "<Figure size 640x480 with 1 Axes>"
            ],
            "image/png": "[encoded data removed]"
          },
          "metadata": {}
        }
      ]
    }
  ]
}